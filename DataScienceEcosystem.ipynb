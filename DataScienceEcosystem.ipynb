{
 "cells": [
  {
   "cell_type": "markdown",
   "id": "c87225be-15b7-465e-9a7d-81e083f99402",
   "metadata": {},
   "source": [
    "#Exercise 2 - Notebook Title Coursera IBM data science homework is written below. EXercise ASKS the title of my notebook with H1 style heading.\n",
    "# Data Science Tools and Ecosystem"
   ]
  },
  {
   "cell_type": "markdown",
   "id": "9adf3735-52b8-4d60-954b-e3bc4d96a5a5",
   "metadata": {},
   "source": [
    "#Exercise 3 - Create a markdown cell for an introduction: introductory sentence about the notebook such as the follows:\n",
    "# In this notebook, Data Science Tools and Ecosystem are summarized."
   ]
  },
  {
   "cell_type": "markdown",
   "id": "6c40bab7-447e-4223-b7da-117d523f8387",
   "metadata": {},
   "source": [
    "#Exercise 10 - Insert a markdown cell to list Objectives Below the introduction cell created in Exercise 3, insert a new markdown cell to list the objectives that this notebook covered (i.e. some of the key takeaways from the course). In this new cell start with an introductory line titled: Objectives: in bold font. Then using an unordered list (bullets) indicate 3 to 5 items covered in this notebook, such as List popular languages for Data Science\n",
    "**Objectives:**\n",
    "- Python\n",
    "- R\n",
    "- SQL\n",
    "- MATLAB\n",
    "- Julia\n",
    "- Scala"
   ]
  },
  {
   "cell_type": "markdown",
   "id": "b4e503ad-d36a-4a41-a893-9715a353b757",
   "metadata": {},
   "source": [
    "#Exercise 4 - Create a markdown cell to list data science languages \n",
    "# Some of the popular languages that Data Scientists use are given in below ordered list:\n",
    "1. Python\n",
    "1. R\n",
    "1. Julia"
   ]
  },
  {
   "cell_type": "markdown",
   "id": "563adfcc-55b0-459b-afa8-13f01d91dc9d",
   "metadata": {},
   "source": [
    "#Exercise 5 - Create a markdown cell to list data science libraries ORDERED LIST IS ASKED HERE BUT QUIZ ASKS DIFFERENT QUESTION\n",
    "# Some of the commonly used libraries used by Data Scientists include the following ordered list:\n",
    "1. NumPy\n",
    "1. Pandas\n",
    "1. Matplotlib\n",
    "1. Scikit-learn\n",
    "1. TensorFlow\n",
    "1. PyTorch"
   ]
  },
  {
   "cell_type": "markdown",
   "id": "3e134ec7-f691-420a-8262-4a5a54ba8370",
   "metadata": {},
   "source": [
    "#Exercise 6 - Create a markdown cell with a table of Data Science tools Create a single column table in this cell with the first row containing the header Data Science Tools. The subsequent three rows in the table should indicate three development environment open source tools used in data science.\n",
    "# Exercise 6 - Data Science Tools Table\n",
    "\n",
    "| Data Science Tools| Description                                                                                                      |\n",
    "|--------------|------------------------------------------------------------------------------------------------------------------|\n",
    "| Jupyter      | Interactive notebooks for data exploration and analysis                                                          |\n",
    "| GitHub       | Version control and collaboration platform for code                                                                |\n",
    "| SQL          | Language for managing and querying relational databases                                                            |\n",
    "| Tableau      | Data visualization and business intelligence tool                                                                 |\n",
    "| Apache Spark | Cluster computing system for large-scale data processing                                                          |\n",
    "| Docker       | Containerization platform for packaging and deploying applications in isolated environments                       |"
   ]
  },
  {
   "cell_type": "markdown",
   "id": "989d9286-0444-43df-b2bb-be504ef01f61",
   "metadata": {},
   "source": [
    "#Exercise 7 - Create a markdown cell introducing arithmetic expression examples. Add a line in this cell with H3 style heading with text like:Below are a few examples of evaluating arithmetic expressions in Python.\n",
    "### Below are a few examples of evaluating arithmetic expressions in Python"
   ]
  },
  {
   "cell_type": "code",
   "execution_count": 5,
   "id": "ec45729c-d123-48a2-9e89-ebfdc65c8c27",
   "metadata": {},
   "outputs": [
    {
     "name": "stdout",
     "output_type": "stream",
     "text": [
      "17\n"
     ]
    }
   ],
   "source": [
    "#Exercise 8 - Create a code cell to multiply and add numbers In this code cell evaluate the expression (3*4)+5. \n",
    "#Insert a comment line before the expression to explain the operation e.g.  This a simple arithmetic expression to mutiply then add integers. \n",
    "#Then execute the cell to ensure the expression returns the expected output of 17.\n",
    "a=3;b=4;c=5\n",
    "#This a simple arithmetic expression to mutiply integers of a and b and then add c after that.\n",
    "print((a*b)+c)"
   ]
  },
  {
   "cell_type": "code",
   "execution_count": 6,
   "id": "e1cab0ee-8f91-40e8-91b0-3235bb02d122",
   "metadata": {},
   "outputs": [
    {
     "name": "stdout",
     "output_type": "stream",
     "text": [
      "3.3333333333333335\n"
     ]
    }
   ],
   "source": [
    "#Exercise 9 - Create a code cell to convert minutes to hours In this code cell write an expression that converts 200 minutes into hours.\n",
    "#Insert a comment line before the expression to explain the operation e.g.  This will convert 200 minutes to hours by diving by 60.\n",
    "#Run the cell to evaluate the expression.\n",
    "minutes=200;\n",
    "#this code converts 200 minutes to hours \n",
    "hours=minutes/60\n",
    "print(hours)"
   ]
  },
  {
   "cell_type": "markdown",
   "id": "58b2810c-3052-484f-a790-1e777ae83050",
   "metadata": {},
   "source": [
    "#Exercise 11 - Create a markdown cell to indicate the Author's name In this markdown cell markdown cell include the following text Author in H2 style heading. Include your name as regular text below the word Author.\n",
    "Take a screenshot of the markdown cell and name it as 11-authordetails.png (Images can be saved with either the .jpg or .png extension.)\n",
    "## Author\n",
    "Muhsin IDER"
   ]
  }
 ],
 "metadata": {
  "kernelspec": {
   "display_name": "Python",
   "language": "python",
   "name": "conda-env-python-py"
  },
  "language_info": {
   "codemirror_mode": {
    "name": "ipython",
    "version": 3
   },
   "file_extension": ".py",
   "mimetype": "text/x-python",
   "name": "python",
   "nbconvert_exporter": "python",
   "pygments_lexer": "ipython3",
   "version": "3.7.12"
  }
 },
 "nbformat": 4,
 "nbformat_minor": 5
}
